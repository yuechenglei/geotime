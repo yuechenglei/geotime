{
 "cells": [
  {
   "cell_type": "code",
   "execution_count": 1,
   "metadata": {
    "collapsed": true
   },
   "outputs": [],
   "source": [
    "import pandas as pd\n",
    "import json"
   ]
  },
  {
   "cell_type": "code",
   "execution_count": 3,
   "metadata": {
    "collapsed": false
   },
   "outputs": [],
   "source": [
    "with open('../data/scheduel/pek16.10.27arrival.json') as json_data:\n",
    "    scheduel = json.load(json_data)"
   ]
  },
  {
   "cell_type": "code",
   "execution_count": null,
   "metadata": {
    "collapsed": true
   },
   "outputs": [],
   "source": []
  },
  {
   "cell_type": "code",
   "execution_count": 8,
   "metadata": {
    "collapsed": false
   },
   "outputs": [
    {
     "data": {
      "text/plain": [
       "{u'aircraft': {u'hex': u'7802C5',\n",
       "  u'model': {u'code': u'B738', u'text': u'Boeing 737-87L'},\n",
       "  u'owner': u'Shenzhen Airlines',\n",
       "  u'registration': u'B-5617',\n",
       "  u'serialNo': u'39150'},\n",
       " u'airline': {u'code': {u'iata': u'ZH', u'icao': u'CSZ'},\n",
       "  u'name': u'Shenzhen Airlines'},\n",
       " u'airport': {u'destination': {u'code': {u'iata': u'PEK', u'icao': u'ZBAA'},\n",
       "   u'name': u'Beijing Capital International Airport',\n",
       "   u'position': {u'country': {u'code': u'CN', u'name': u'China'},\n",
       "    u'latitude': 40.080109,\n",
       "    u'longitude': 116.584503,\n",
       "    u'region': {u'city': u'Beijing'}},\n",
       "   u'timezone': {u'abbr': u'CST',\n",
       "    u'abbrName': u'China Standard Time',\n",
       "    u'isDst': False,\n",
       "    u'name': u'Asia/Shanghai',\n",
       "    u'offset': 28800},\n",
       "   u'visible': True},\n",
       "  u'origin': {u'code': {u'iata': u'XIY', u'icao': u'ZLXY'},\n",
       "   u'name': u\"Xi'an Xianyang International Airport\",\n",
       "   u'position': {u'country': {u'code': u'CN', u'name': u'China'},\n",
       "    u'latitude': 34.447109,\n",
       "    u'longitude': 108.751503,\n",
       "    u'region': {u'city': u\"Xi'an\"}},\n",
       "   u'timezone': {u'abbr': u'CST',\n",
       "    u'abbrName': u'China Standard Time',\n",
       "    u'isDst': False,\n",
       "    u'name': u'Asia/Chongqing',\n",
       "    u'offset': 28800},\n",
       "   u'visible': True},\n",
       "  u'real': None},\n",
       " u'identification': {u'callsign': u'ZH9404',\n",
       "  u'codeshare': None,\n",
       "  u'id': u'b6a9c8f',\n",
       "  u'number': {u'alternative': None, u'default': u'ZH9404'},\n",
       "  u'row': 3547449052},\n",
       " u'status': {u'ambiguous': False,\n",
       "  u'estimated': None,\n",
       "  u'generic': {u'eventTime': {u'local': 1477438003, u'utc': 1477409203},\n",
       "   u'status': {u'color': u'green',\n",
       "    u'diverted': None,\n",
       "    u'text': u'landed',\n",
       "    u'type': u'arrival'}},\n",
       "  u'icon': u'green',\n",
       "  u'live': False,\n",
       "  u'text': u'Landed 23:26'},\n",
       " u'time': {u'estimated': {u'arrival': None, u'departure': None},\n",
       "  u'other': {u'eta': 1477409203, u'updated': 1477409596},\n",
       "  u'real': {u'arrival': 1477409100, u'departure': 1477404297},\n",
       "  u'scheduled': {u'arrival': 1477411140, u'departure': 1477404000}}}"
      ]
     },
     "execution_count": 8,
     "metadata": {},
     "output_type": "execute_result"
    }
   ],
   "source": [
    "scheduel['b6a9c8f']"
   ]
  },
  {
   "cell_type": "code",
   "execution_count": 4,
   "metadata": {
    "collapsed": true
   },
   "outputs": [],
   "source": [
    "df = pd.read_csv(\"../../data/flight/16.10.27_peking/mergered/arrival.csv\")"
   ]
  },
  {
   "cell_type": "code",
   "execution_count": 5,
   "metadata": {
    "collapsed": false
   },
   "outputs": [
    {
     "data": {
      "text/html": [
       "<div>\n",
       "<table border=\"1\" class=\"dataframe\">\n",
       "  <thead>\n",
       "    <tr style=\"text-align: right;\">\n",
       "      <th></th>\n",
       "      <th>trajID</th>\n",
       "      <th>Timestamp</th>\n",
       "      <th>UTC</th>\n",
       "      <th>Callsign</th>\n",
       "      <th>Position</th>\n",
       "      <th>Altitude</th>\n",
       "      <th>Speed</th>\n",
       "      <th>Direction</th>\n",
       "    </tr>\n",
       "  </thead>\n",
       "  <tbody>\n",
       "    <tr>\n",
       "      <th>0</th>\n",
       "      <td>b6eca02</td>\n",
       "      <td>1477536823</td>\n",
       "      <td>2016-10-27 10:53:43</td>\n",
       "      <td>ELY95</td>\n",
       "      <td>32.00489,34.876785</td>\n",
       "      <td>0</td>\n",
       "      <td>0</td>\n",
       "      <td>0</td>\n",
       "    </tr>\n",
       "    <tr>\n",
       "      <th>1</th>\n",
       "      <td>b6eca02</td>\n",
       "      <td>1477536935</td>\n",
       "      <td>2016-10-27 10:55:35</td>\n",
       "      <td>ELY95</td>\n",
       "      <td>32.004898,34.876785</td>\n",
       "      <td>0</td>\n",
       "      <td>0</td>\n",
       "      <td>0</td>\n",
       "    </tr>\n",
       "    <tr>\n",
       "      <th>2</th>\n",
       "      <td>b6eca02</td>\n",
       "      <td>1477537023</td>\n",
       "      <td>2016-10-27 10:57:03</td>\n",
       "      <td>ELY95</td>\n",
       "      <td>32.004898,34.876785</td>\n",
       "      <td>0</td>\n",
       "      <td>0</td>\n",
       "      <td>0</td>\n",
       "    </tr>\n",
       "    <tr>\n",
       "      <th>3</th>\n",
       "      <td>b6eca02</td>\n",
       "      <td>1477537238</td>\n",
       "      <td>2016-10-27 11:00:38</td>\n",
       "      <td>ELY95</td>\n",
       "      <td>32.004898,34.876785</td>\n",
       "      <td>0</td>\n",
       "      <td>0</td>\n",
       "      <td>0</td>\n",
       "    </tr>\n",
       "    <tr>\n",
       "      <th>4</th>\n",
       "      <td>b6eca02</td>\n",
       "      <td>1477537443</td>\n",
       "      <td>2016-10-27 11:04:03</td>\n",
       "      <td>ELY95</td>\n",
       "      <td>32.004723,34.877136</td>\n",
       "      <td>0</td>\n",
       "      <td>0</td>\n",
       "      <td>140</td>\n",
       "    </tr>\n",
       "  </tbody>\n",
       "</table>\n",
       "</div>"
      ],
      "text/plain": [
       "    trajID   Timestamp                  UTC Callsign             Position  \\\n",
       "0  b6eca02  1477536823  2016-10-27 10:53:43    ELY95   32.00489,34.876785   \n",
       "1  b6eca02  1477536935  2016-10-27 10:55:35    ELY95  32.004898,34.876785   \n",
       "2  b6eca02  1477537023  2016-10-27 10:57:03    ELY95  32.004898,34.876785   \n",
       "3  b6eca02  1477537238  2016-10-27 11:00:38    ELY95  32.004898,34.876785   \n",
       "4  b6eca02  1477537443  2016-10-27 11:04:03    ELY95  32.004723,34.877136   \n",
       "\n",
       "   Altitude  Speed  Direction  \n",
       "0         0      0          0  \n",
       "1         0      0          0  \n",
       "2         0      0          0  \n",
       "3         0      0          0  \n",
       "4         0      0        140  "
      ]
     },
     "execution_count": 5,
     "metadata": {},
     "output_type": "execute_result"
    }
   ],
   "source": [
    "df.head()"
   ]
  },
  {
   "cell_type": "code",
   "execution_count": null,
   "metadata": {
    "collapsed": true
   },
   "outputs": [],
   "source": []
  }
 ],
 "metadata": {
  "kernelspec": {
   "display_name": "Python 2",
   "language": "python",
   "name": "python2"
  },
  "language_info": {
   "codemirror_mode": {
    "name": "ipython",
    "version": 2
   },
   "file_extension": ".py",
   "mimetype": "text/x-python",
   "name": "python",
   "nbconvert_exporter": "python",
   "pygments_lexer": "ipython2",
   "version": "2.7.11"
  }
 },
 "nbformat": 4,
 "nbformat_minor": 0
}
