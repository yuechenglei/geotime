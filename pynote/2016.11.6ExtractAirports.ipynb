{
 "cells": [
  {
   "cell_type": "code",
   "execution_count": 1,
   "metadata": {
    "collapsed": true
   },
   "outputs": [],
   "source": [
    "import json"
   ]
  },
  {
   "cell_type": "code",
   "execution_count": 6,
   "metadata": {
    "collapsed": true
   },
   "outputs": [],
   "source": [
    "fp = open(\"../data/scheduel/pek16.10.27arrival.json\",\"r\")\n",
    "arr27 = json.loads(fp.read())\n",
    "fp.close()"
   ]
  },
  {
   "cell_type": "code",
   "execution_count": 8,
   "metadata": {
    "collapsed": true
   },
   "outputs": [],
   "source": [
    "fp = open(\"../data/scheduel/pek16.10.27departure.json\",\"r\")\n",
    "dep27 = json.loads(fp.read())\n",
    "fp.close()"
   ]
  },
  {
   "cell_type": "code",
   "execution_count": 9,
   "metadata": {
    "collapsed": true
   },
   "outputs": [],
   "source": [
    "fp = open(\"../data/scheduel/pek16.10.28arrival.json\",\"r\")\n",
    "arr28 = json.loads(fp.read())\n",
    "fp.close()"
   ]
  },
  {
   "cell_type": "code",
   "execution_count": 11,
   "metadata": {
    "collapsed": false
   },
   "outputs": [],
   "source": [
    "fp = open(\"../data/scheduel/pek16.10.28depature.json\",\"r\")\n",
    "dep28 = json.loads(fp.read())\n",
    "fp.close()"
   ]
  },
  {
   "cell_type": "code",
   "execution_count": 17,
   "metadata": {
    "collapsed": false,
    "scrolled": true
   },
   "outputs": [
    {
     "data": {
      "text/plain": [
       "{u'code': {u'iata': u'PEK', u'icao': u'ZBAA'},\n",
       " u'name': u'Beijing Capital International Airport',\n",
       " u'position': {u'country': {u'code': u'CN', u'name': u'China'},\n",
       "  u'latitude': 40.080109,\n",
       "  u'longitude': 116.584503,\n",
       "  u'region': {u'city': u'Beijing'}},\n",
       " u'timezone': {u'abbr': u'CST',\n",
       "  u'abbrName': u'China Standard Time',\n",
       "  u'isDst': False,\n",
       "  u'name': u'Asia/Shanghai',\n",
       "  u'offset': 28800},\n",
       " u'visible': True}"
      ]
     },
     "execution_count": 17,
     "metadata": {},
     "output_type": "execute_result"
    }
   ],
   "source": [
    "arr27['b4e9944']['airport']['destination']"
   ]
  },
  {
   "cell_type": "code",
   "execution_count": 54,
   "metadata": {
    "collapsed": true
   },
   "outputs": [],
   "source": [
    "airports = {}"
   ]
  },
  {
   "cell_type": "code",
   "execution_count": 65,
   "metadata": {
    "collapsed": true
   },
   "outputs": [],
   "source": [
    "scheduel = dep28"
   ]
  },
  {
   "cell_type": "code",
   "execution_count": 66,
   "metadata": {
    "collapsed": false
   },
   "outputs": [],
   "source": [
    "for trajID in scheduel.keys():\n",
    "    airport = scheduel[trajID]['airport']['destination']\n",
    "    if type(airport) == dict and airport['code']['iata'] not in airports:\n",
    "        airports[airport['code']['iata']] = airport\n",
    "\n",
    "    airport = scheduel[trajID]['airport']['origin']\n",
    "    if type(airport) == dict and airport['code']['iata'] not in airports:\n",
    "        airports[airport['code']['iata']] = airport"
   ]
  },
  {
   "cell_type": "code",
   "execution_count": 68,
   "metadata": {
    "collapsed": true
   },
   "outputs": [],
   "source": [
    "fp = open(\"../data/airports\",\"w\")\n",
    "json.dump(airports,fp)\n",
    "fp.close()\n"
   ]
  },
  {
   "cell_type": "code",
   "execution_count": null,
   "metadata": {
    "collapsed": true
   },
   "outputs": [],
   "source": []
  }
 ],
 "metadata": {
  "kernelspec": {
   "display_name": "Python 2",
   "language": "python",
   "name": "python2"
  },
  "language_info": {
   "codemirror_mode": {
    "name": "ipython",
    "version": 2
   },
   "file_extension": ".py",
   "mimetype": "text/x-python",
   "name": "python",
   "nbconvert_exporter": "python",
   "pygments_lexer": "ipython2",
   "version": "2.7.11"
  }
 },
 "nbformat": 4,
 "nbformat_minor": 0
}
