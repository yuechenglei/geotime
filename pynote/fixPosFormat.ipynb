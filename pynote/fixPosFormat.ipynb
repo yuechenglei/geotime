{
 "cells": [
  {
   "cell_type": "code",
   "execution_count": 57,
   "metadata": {
    "collapsed": true
   },
   "outputs": [],
   "source": [
    "import numpy as np\n",
    "import pandas as pd"
   ]
  },
  {
   "cell_type": "code",
   "execution_count": 58,
   "metadata": {
    "collapsed": false
   },
   "outputs": [],
   "source": [
    "df_fix = pd.read_csv(\"./fixes_file.txt\",delimiter=\"\\t\")"
   ]
  },
  {
   "cell_type": "code",
   "execution_count": 59,
   "metadata": {
    "collapsed": false
   },
   "outputs": [
    {
     "data": {
      "text/html": [
       "<div>\n",
       "<table border=\"1\" class=\"dataframe\">\n",
       "  <thead>\n",
       "    <tr style=\"text-align: right;\">\n",
       "      <th></th>\n",
       "      <th>Name</th>\n",
       "      <th>Latitude</th>\n",
       "      <th>Latitude2</th>\n",
       "      <th>Latitude3</th>\n",
       "      <th>Unnamed: 4</th>\n",
       "      <th>Unnamed: 5</th>\n",
       "      <th>Longitude</th>\n",
       "      <th>Longitude2</th>\n",
       "      <th>Longitude3</th>\n",
       "      <th>Unnamed: 9</th>\n",
       "    </tr>\n",
       "  </thead>\n",
       "  <tbody>\n",
       "    <tr>\n",
       "      <th>0</th>\n",
       "      <td>AG</td>\n",
       "      <td>N31</td>\n",
       "      <td>59</td>\n",
       "      <td>6</td>\n",
       "      <td>E118</td>\n",
       "      <td>47</td>\n",
       "      <td>42</td>\n",
       "      <td>NaN</td>\n",
       "      <td>NaN</td>\n",
       "      <td>NaN</td>\n",
       "    </tr>\n",
       "    <tr>\n",
       "      <th>1</th>\n",
       "      <td>AGAVO</td>\n",
       "      <td>N37</td>\n",
       "      <td>10</td>\n",
       "      <td>0</td>\n",
       "      <td>E124</td>\n",
       "      <td>0</td>\n",
       "      <td>0</td>\n",
       "      <td>NaN</td>\n",
       "      <td>NaN</td>\n",
       "      <td>NaN</td>\n",
       "    </tr>\n",
       "    <tr>\n",
       "      <th>2</th>\n",
       "      <td>AGOBA</td>\n",
       "      <td>N01</td>\n",
       "      <td>58</td>\n",
       "      <td>42</td>\n",
       "      <td>E108</td>\n",
       "      <td>30</td>\n",
       "      <td>0</td>\n",
       "      <td>NaN</td>\n",
       "      <td>NaN</td>\n",
       "      <td>NaN</td>\n",
       "    </tr>\n",
       "    <tr>\n",
       "      <th>3</th>\n",
       "      <td>AGPOR</td>\n",
       "      <td>N20</td>\n",
       "      <td>18</td>\n",
       "      <td>24</td>\n",
       "      <td>E110</td>\n",
       "      <td>13</td>\n",
       "      <td>54</td>\n",
       "      <td>NaN</td>\n",
       "      <td>NaN</td>\n",
       "      <td>NaN</td>\n",
       "    </tr>\n",
       "    <tr>\n",
       "      <th>4</th>\n",
       "      <td>AGSON</td>\n",
       "      <td>N02</td>\n",
       "      <td>15</td>\n",
       "      <td>0</td>\n",
       "      <td>E114</td>\n",
       "      <td>51</td>\n",
       "      <td>24</td>\n",
       "      <td>NaN</td>\n",
       "      <td>NaN</td>\n",
       "      <td>NaN</td>\n",
       "    </tr>\n",
       "  </tbody>\n",
       "</table>\n",
       "</div>"
      ],
      "text/plain": [
       "    Name Latitude  Latitude2  Latitude3 Unnamed: 4  Unnamed: 5  Longitude  \\\n",
       "0     AG      N31         59          6       E118          47         42   \n",
       "1  AGAVO      N37         10          0       E124           0          0   \n",
       "2  AGOBA      N01         58         42       E108          30          0   \n",
       "3  AGPOR      N20         18         24       E110          13         54   \n",
       "4  AGSON      N02         15          0       E114          51         24   \n",
       "\n",
       "   Longitude2  Longitude3  Unnamed: 9  \n",
       "0         NaN         NaN         NaN  \n",
       "1         NaN         NaN         NaN  \n",
       "2         NaN         NaN         NaN  \n",
       "3         NaN         NaN         NaN  \n",
       "4         NaN         NaN         NaN  "
      ]
     },
     "execution_count": 59,
     "metadata": {},
     "output_type": "execute_result"
    }
   ],
   "source": [
    "df_fix.head()"
   ]
  },
  {
   "cell_type": "code",
   "execution_count": 60,
   "metadata": {
    "collapsed": false
   },
   "outputs": [],
   "source": [
    "df_fix.columns = [u'Name', u'Latitude', u'Latitude2', u'Latitude3', u'Longitude1',\n",
    "       u'Longitude2', u'Longitude3', u'1', u'2',\n",
    "       u'3']"
   ]
  },
  {
   "cell_type": "code",
   "execution_count": 61,
   "metadata": {
    "collapsed": false
   },
   "outputs": [
    {
     "data": {
      "text/html": [
       "<div>\n",
       "<table border=\"1\" class=\"dataframe\">\n",
       "  <thead>\n",
       "    <tr style=\"text-align: right;\">\n",
       "      <th></th>\n",
       "      <th>Name</th>\n",
       "      <th>Latitude</th>\n",
       "      <th>Latitude2</th>\n",
       "      <th>Latitude3</th>\n",
       "      <th>Longitude1</th>\n",
       "      <th>Longitude2</th>\n",
       "      <th>Longitude3</th>\n",
       "      <th>1</th>\n",
       "      <th>2</th>\n",
       "      <th>3</th>\n",
       "    </tr>\n",
       "  </thead>\n",
       "  <tbody>\n",
       "    <tr>\n",
       "      <th>0</th>\n",
       "      <td>AG</td>\n",
       "      <td>N31</td>\n",
       "      <td>59</td>\n",
       "      <td>6</td>\n",
       "      <td>E118</td>\n",
       "      <td>47</td>\n",
       "      <td>42</td>\n",
       "      <td>NaN</td>\n",
       "      <td>NaN</td>\n",
       "      <td>NaN</td>\n",
       "    </tr>\n",
       "    <tr>\n",
       "      <th>1</th>\n",
       "      <td>AGAVO</td>\n",
       "      <td>N37</td>\n",
       "      <td>10</td>\n",
       "      <td>0</td>\n",
       "      <td>E124</td>\n",
       "      <td>0</td>\n",
       "      <td>0</td>\n",
       "      <td>NaN</td>\n",
       "      <td>NaN</td>\n",
       "      <td>NaN</td>\n",
       "    </tr>\n",
       "    <tr>\n",
       "      <th>2</th>\n",
       "      <td>AGOBA</td>\n",
       "      <td>N01</td>\n",
       "      <td>58</td>\n",
       "      <td>42</td>\n",
       "      <td>E108</td>\n",
       "      <td>30</td>\n",
       "      <td>0</td>\n",
       "      <td>NaN</td>\n",
       "      <td>NaN</td>\n",
       "      <td>NaN</td>\n",
       "    </tr>\n",
       "    <tr>\n",
       "      <th>3</th>\n",
       "      <td>AGPOR</td>\n",
       "      <td>N20</td>\n",
       "      <td>18</td>\n",
       "      <td>24</td>\n",
       "      <td>E110</td>\n",
       "      <td>13</td>\n",
       "      <td>54</td>\n",
       "      <td>NaN</td>\n",
       "      <td>NaN</td>\n",
       "      <td>NaN</td>\n",
       "    </tr>\n",
       "    <tr>\n",
       "      <th>4</th>\n",
       "      <td>AGSON</td>\n",
       "      <td>N02</td>\n",
       "      <td>15</td>\n",
       "      <td>0</td>\n",
       "      <td>E114</td>\n",
       "      <td>51</td>\n",
       "      <td>24</td>\n",
       "      <td>NaN</td>\n",
       "      <td>NaN</td>\n",
       "      <td>NaN</td>\n",
       "    </tr>\n",
       "  </tbody>\n",
       "</table>\n",
       "</div>"
      ],
      "text/plain": [
       "    Name Latitude  Latitude2  Latitude3 Longitude1  Longitude2  Longitude3  \\\n",
       "0     AG      N31         59          6       E118          47          42   \n",
       "1  AGAVO      N37         10          0       E124           0           0   \n",
       "2  AGOBA      N01         58         42       E108          30           0   \n",
       "3  AGPOR      N20         18         24       E110          13          54   \n",
       "4  AGSON      N02         15          0       E114          51          24   \n",
       "\n",
       "    1   2   3  \n",
       "0 NaN NaN NaN  \n",
       "1 NaN NaN NaN  \n",
       "2 NaN NaN NaN  \n",
       "3 NaN NaN NaN  \n",
       "4 NaN NaN NaN  "
      ]
     },
     "execution_count": 61,
     "metadata": {},
     "output_type": "execute_result"
    }
   ],
   "source": [
    "df_fix.head()"
   ]
  },
  {
   "cell_type": "code",
   "execution_count": 62,
   "metadata": {
    "collapsed": true
   },
   "outputs": [],
   "source": [
    "def latCal(l1,l2,l3):\n",
    "    res = float(l1[1:])\n",
    "    if(l1[0] == 'S'):\n",
    "        res = -1 * res\n",
    "    res = res + 1/60.0 * float(l2)\n",
    "    res = res + 1/3600.0 * float(l3)\n",
    "    return res"
   ]
  },
  {
   "cell_type": "code",
   "execution_count": 63,
   "metadata": {
    "collapsed": true
   },
   "outputs": [],
   "source": [
    "def lonCal(l1,l2,l3):\n",
    "    res = float(l1[1:])\n",
    "    if(l1[0] == 'W'):\n",
    "        res = -1 * res\n",
    "    res = res + 1/60.0 * float(l2)\n",
    "    res = res + 1/3600.0 * float(l3)\n",
    "    return res"
   ]
  },
  {
   "cell_type": "code",
   "execution_count": 64,
   "metadata": {
    "collapsed": false
   },
   "outputs": [
    {
     "data": {
      "text/plain": [
       "(1149, 10)"
      ]
     },
     "execution_count": 64,
     "metadata": {},
     "output_type": "execute_result"
    }
   ],
   "source": [
    "df_fix.shape"
   ]
  },
  {
   "cell_type": "code",
   "execution_count": 65,
   "metadata": {
    "collapsed": false
   },
   "outputs": [
    {
     "data": {
      "text/html": [
       "<div>\n",
       "<table border=\"1\" class=\"dataframe\">\n",
       "  <thead>\n",
       "    <tr style=\"text-align: right;\">\n",
       "      <th></th>\n",
       "      <th>Name</th>\n",
       "      <th>Latitude</th>\n",
       "      <th>Latitude2</th>\n",
       "      <th>Latitude3</th>\n",
       "      <th>Longitude1</th>\n",
       "      <th>Longitude2</th>\n",
       "      <th>Longitude3</th>\n",
       "      <th>1</th>\n",
       "      <th>2</th>\n",
       "      <th>3</th>\n",
       "    </tr>\n",
       "  </thead>\n",
       "  <tbody>\n",
       "    <tr>\n",
       "      <th>982</th>\n",
       "      <td>TMRPO</td>\n",
       "      <td>N43</td>\n",
       "      <td>2</td>\n",
       "      <td>0</td>\n",
       "      <td>E113</td>\n",
       "      <td>12</td>\n",
       "      <td>0</td>\n",
       "      <td>NaN</td>\n",
       "      <td>NaN</td>\n",
       "      <td>NaN</td>\n",
       "    </tr>\n",
       "  </tbody>\n",
       "</table>\n",
       "</div>"
      ],
      "text/plain": [
       "      Name Latitude  Latitude2  Latitude3 Longitude1  Longitude2  Longitude3  \\\n",
       "982  TMRPO      N43          2          0       E113          12           0   \n",
       "\n",
       "      1   2   3  \n",
       "982 NaN NaN NaN  "
      ]
     },
     "execution_count": 65,
     "metadata": {},
     "output_type": "execute_result"
    }
   ],
   "source": [
    "df_fix[982:983]"
   ]
  },
  {
   "cell_type": "code",
   "execution_count": 66,
   "metadata": {
    "collapsed": false
   },
   "outputs": [
    {
     "data": {
      "text/html": [
       "<div>\n",
       "<table border=\"1\" class=\"dataframe\">\n",
       "  <thead>\n",
       "    <tr style=\"text-align: right;\">\n",
       "      <th></th>\n",
       "      <th>Name</th>\n",
       "      <th>Latitude</th>\n",
       "      <th>Latitude2</th>\n",
       "      <th>Latitude3</th>\n",
       "      <th>Longitude1</th>\n",
       "      <th>Longitude2</th>\n",
       "      <th>Longitude3</th>\n",
       "      <th>1</th>\n",
       "      <th>2</th>\n",
       "      <th>3</th>\n",
       "    </tr>\n",
       "  </thead>\n",
       "  <tbody>\n",
       "    <tr>\n",
       "      <th>822</th>\n",
       "      <td>POMOK</td>\n",
       "      <td>N31</td>\n",
       "      <td>27</td>\n",
       "      <td>0</td>\n",
       "      <td>E121</td>\n",
       "      <td>7</td>\n",
       "      <td>0</td>\n",
       "      <td>NaN</td>\n",
       "      <td>NaN</td>\n",
       "      <td>NaN</td>\n",
       "    </tr>\n",
       "  </tbody>\n",
       "</table>\n",
       "</div>"
      ],
      "text/plain": [
       "      Name Latitude  Latitude2  Latitude3 Longitude1  Longitude2  Longitude3  \\\n",
       "822  POMOK      N31         27          0       E121           7           0   \n",
       "\n",
       "      1   2   3  \n",
       "822 NaN NaN NaN  "
      ]
     },
     "execution_count": 66,
     "metadata": {},
     "output_type": "execute_result"
    }
   ],
   "source": [
    "df_fix[822:823]"
   ]
  },
  {
   "cell_type": "code",
   "execution_count": 67,
   "metadata": {
    "collapsed": false
   },
   "outputs": [],
   "source": [
    "df_fix['Lat'] = df_fix.apply(lambda x: latCal(x.Latitude, x.Latitude2,x.Latitude3),axis=1)"
   ]
  },
  {
   "cell_type": "code",
   "execution_count": 68,
   "metadata": {
    "collapsed": false
   },
   "outputs": [],
   "source": [
    "df_fix['Lon'] = df_fix.apply(lambda x: lonCal(x.Longitude1, x.Longitude2,x.Longitude3),axis=1)"
   ]
  },
  {
   "cell_type": "code",
   "execution_count": 69,
   "metadata": {
    "collapsed": false
   },
   "outputs": [
    {
     "data": {
      "text/html": [
       "<div>\n",
       "<table border=\"1\" class=\"dataframe\">\n",
       "  <thead>\n",
       "    <tr style=\"text-align: right;\">\n",
       "      <th></th>\n",
       "      <th>Name</th>\n",
       "      <th>Latitude</th>\n",
       "      <th>Latitude2</th>\n",
       "      <th>Latitude3</th>\n",
       "      <th>Longitude1</th>\n",
       "      <th>Longitude2</th>\n",
       "      <th>Longitude3</th>\n",
       "      <th>1</th>\n",
       "      <th>2</th>\n",
       "      <th>3</th>\n",
       "      <th>Lat</th>\n",
       "      <th>Lon</th>\n",
       "    </tr>\n",
       "  </thead>\n",
       "  <tbody>\n",
       "    <tr>\n",
       "      <th>0</th>\n",
       "      <td>AG</td>\n",
       "      <td>N31</td>\n",
       "      <td>59</td>\n",
       "      <td>6</td>\n",
       "      <td>E118</td>\n",
       "      <td>47</td>\n",
       "      <td>42</td>\n",
       "      <td>NaN</td>\n",
       "      <td>NaN</td>\n",
       "      <td>NaN</td>\n",
       "      <td>31.985000</td>\n",
       "      <td>118.795000</td>\n",
       "    </tr>\n",
       "    <tr>\n",
       "      <th>1</th>\n",
       "      <td>AGAVO</td>\n",
       "      <td>N37</td>\n",
       "      <td>10</td>\n",
       "      <td>0</td>\n",
       "      <td>E124</td>\n",
       "      <td>0</td>\n",
       "      <td>0</td>\n",
       "      <td>NaN</td>\n",
       "      <td>NaN</td>\n",
       "      <td>NaN</td>\n",
       "      <td>37.166667</td>\n",
       "      <td>124.000000</td>\n",
       "    </tr>\n",
       "    <tr>\n",
       "      <th>2</th>\n",
       "      <td>AGOBA</td>\n",
       "      <td>N01</td>\n",
       "      <td>58</td>\n",
       "      <td>42</td>\n",
       "      <td>E108</td>\n",
       "      <td>30</td>\n",
       "      <td>0</td>\n",
       "      <td>NaN</td>\n",
       "      <td>NaN</td>\n",
       "      <td>NaN</td>\n",
       "      <td>1.978333</td>\n",
       "      <td>108.500000</td>\n",
       "    </tr>\n",
       "    <tr>\n",
       "      <th>3</th>\n",
       "      <td>AGPOR</td>\n",
       "      <td>N20</td>\n",
       "      <td>18</td>\n",
       "      <td>24</td>\n",
       "      <td>E110</td>\n",
       "      <td>13</td>\n",
       "      <td>54</td>\n",
       "      <td>NaN</td>\n",
       "      <td>NaN</td>\n",
       "      <td>NaN</td>\n",
       "      <td>20.306667</td>\n",
       "      <td>110.231667</td>\n",
       "    </tr>\n",
       "    <tr>\n",
       "      <th>4</th>\n",
       "      <td>AGSON</td>\n",
       "      <td>N02</td>\n",
       "      <td>15</td>\n",
       "      <td>0</td>\n",
       "      <td>E114</td>\n",
       "      <td>51</td>\n",
       "      <td>24</td>\n",
       "      <td>NaN</td>\n",
       "      <td>NaN</td>\n",
       "      <td>NaN</td>\n",
       "      <td>2.250000</td>\n",
       "      <td>114.856667</td>\n",
       "    </tr>\n",
       "  </tbody>\n",
       "</table>\n",
       "</div>"
      ],
      "text/plain": [
       "    Name Latitude  Latitude2  Latitude3 Longitude1  Longitude2  Longitude3  \\\n",
       "0     AG      N31         59          6       E118          47          42   \n",
       "1  AGAVO      N37         10          0       E124           0           0   \n",
       "2  AGOBA      N01         58         42       E108          30           0   \n",
       "3  AGPOR      N20         18         24       E110          13          54   \n",
       "4  AGSON      N02         15          0       E114          51          24   \n",
       "\n",
       "    1   2   3        Lat         Lon  \n",
       "0 NaN NaN NaN  31.985000  118.795000  \n",
       "1 NaN NaN NaN  37.166667  124.000000  \n",
       "2 NaN NaN NaN   1.978333  108.500000  \n",
       "3 NaN NaN NaN  20.306667  110.231667  \n",
       "4 NaN NaN NaN   2.250000  114.856667  "
      ]
     },
     "execution_count": 69,
     "metadata": {},
     "output_type": "execute_result"
    }
   ],
   "source": [
    "df_fix.head()"
   ]
  },
  {
   "cell_type": "code",
   "execution_count": null,
   "metadata": {
    "collapsed": true
   },
   "outputs": [],
   "source": [
    "df_fix.drop([])"
   ]
  }
 ],
 "metadata": {
  "kernelspec": {
   "display_name": "Python 2",
   "language": "python",
   "name": "python2"
  },
  "language_info": {
   "codemirror_mode": {
    "name": "ipython",
    "version": 2
   },
   "file_extension": ".py",
   "mimetype": "text/x-python",
   "name": "python",
   "nbconvert_exporter": "python",
   "pygments_lexer": "ipython2",
   "version": "2.7.11"
  }
 },
 "nbformat": 4,
 "nbformat_minor": 0
}
