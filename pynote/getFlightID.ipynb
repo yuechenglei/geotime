{
 "cells": [
  {
   "cell_type": "code",
   "execution_count": 3,
   "metadata": {
    "collapsed": false
   },
   "outputs": [],
   "source": [
    "import numpy as np\n",
    "import pandas as pd\n",
    "import requests\n",
    "import json"
   ]
  },
  {
   "cell_type": "code",
   "execution_count": 4,
   "metadata": {
    "collapsed": true
   },
   "outputs": [],
   "source": [
    "raw_data_path = \"../data/pek16.10.27departure.csv\"\n",
    "data_with_flightID_path = '../data/flightIDs/pek16.10.28depatureFlightID.csv'\n",
    "flightID_path = \"../data/flightIDs/pek16.10.27departureFlightID.csv\""
   ]
  },
  {
   "cell_type": "code",
   "execution_count": 5,
   "metadata": {
    "collapsed": false
   },
   "outputs": [],
   "source": [
    "arr_df =pd.read_csv(raw_data_path)"
   ]
  },
  {
   "cell_type": "code",
   "execution_count": 79,
   "metadata": {
    "collapsed": false
   },
   "outputs": [],
   "source": [
    "callsignG = arr_df.groupby(\"Callsign\")"
   ]
  },
  {
   "cell_type": "code",
   "execution_count": 80,
   "metadata": {
    "collapsed": false
   },
   "outputs": [],
   "source": [
    "lastRecord = callsignG.last()"
   ]
  },
  {
   "cell_type": "code",
   "execution_count": 81,
   "metadata": {
    "collapsed": false
   },
   "outputs": [],
   "source": [
    "lastRecord = lastRecord.reset_index()"
   ]
  },
  {
   "cell_type": "code",
   "execution_count": 58,
   "metadata": {
    "collapsed": false
   },
   "outputs": [],
   "source": [
    "def getflightID(callsign):\n",
    "    url1 = \"https://www.flightradar24.com/v1/search/web/find?query=\" + callsign + \"&limit=18&type=schedule\"\n",
    "    r = requests.get(url1)\n",
    "    flights = json.loads(r.text)[\"results\"]\n",
    "    res = \"\"\n",
    "    for aFlight in flights:\n",
    "        label = aFlight['label']\n",
    "        words = label.split(' ')\n",
    "        for word in words:\n",
    "            if word == callsign:\n",
    "                res = aFlight\n",
    "                break\n",
    "    if \"id\" in res:\n",
    "        return res['id']\n",
    "    else:\n",
    "        return '-1'"
   ]
  },
  {
   "cell_type": "code",
   "execution_count": 59,
   "metadata": {
    "collapsed": true
   },
   "outputs": [],
   "source": [
    "lastRecord['FlightID'] = \"\""
   ]
  },
  {
   "cell_type": "code",
   "execution_count": 60,
   "metadata": {
    "collapsed": false
   },
   "outputs": [
    {
     "name": "stdout",
     "output_type": "stream",
     "text": [
      "CPU times: user 14 s, sys: 669 ms, total: 14.7 s\n",
      "Wall time: 15min 33s\n"
     ]
    }
   ],
   "source": [
    "%%time\n",
    "lastRecord['FlightID'] = lastRecord.apply(lambda x: getflightID(x.Callsign), axis=1 )"
   ]
  },
  {
   "cell_type": "code",
   "execution_count": 61,
   "metadata": {
    "collapsed": false,
    "scrolled": true
   },
   "outputs": [
    {
     "data": {
      "text/html": [
       "<div>\n",
       "<table border=\"1\" class=\"dataframe\">\n",
       "  <thead>\n",
       "    <tr style=\"text-align: right;\">\n",
       "      <th></th>\n",
       "      <th>Callsign</th>\n",
       "      <th>trajID</th>\n",
       "      <th>Timestamp</th>\n",
       "      <th>Time</th>\n",
       "      <th>Position</th>\n",
       "      <th>Altitude</th>\n",
       "      <th>Speed</th>\n",
       "      <th>Direction</th>\n",
       "      <th>FlightID</th>\n",
       "    </tr>\n",
       "  </thead>\n",
       "  <tbody>\n",
       "    <tr>\n",
       "      <th>0</th>\n",
       "      <td>3U8896</td>\n",
       "      <td>b718e54</td>\n",
       "      <td>1477629457</td>\n",
       "      <td>2016-10-28 12:37:37</td>\n",
       "      <td>28.831833,104.550919</td>\n",
       "      <td>25600</td>\n",
       "      <td>428</td>\n",
       "      <td>199</td>\n",
       "      <td>3U8896</td>\n",
       "    </tr>\n",
       "    <tr>\n",
       "      <th>1</th>\n",
       "      <td>AAL186</td>\n",
       "      <td>b715fe6</td>\n",
       "      <td>1477666041</td>\n",
       "      <td>2016-10-28 22:47:21</td>\n",
       "      <td>41.977055,-87.893028</td>\n",
       "      <td>0</td>\n",
       "      <td>2</td>\n",
       "      <td>84</td>\n",
       "      <td>AA186</td>\n",
       "    </tr>\n",
       "    <tr>\n",
       "      <th>2</th>\n",
       "      <td>AAL262</td>\n",
       "      <td>b71e9fe</td>\n",
       "      <td>1477661685</td>\n",
       "      <td>2016-10-28 21:34:45</td>\n",
       "      <td>53.922958,163.93689</td>\n",
       "      <td>36975</td>\n",
       "      <td>515</td>\n",
       "      <td>60</td>\n",
       "      <td>AA262</td>\n",
       "    </tr>\n",
       "    <tr>\n",
       "      <th>3</th>\n",
       "      <td>AAR314</td>\n",
       "      <td>b7172ff</td>\n",
       "      <td>1477629965</td>\n",
       "      <td>2016-10-28 12:46:05</td>\n",
       "      <td>35.185947,128.93898</td>\n",
       "      <td>0</td>\n",
       "      <td>0</td>\n",
       "      <td>50</td>\n",
       "      <td>OZ314</td>\n",
       "    </tr>\n",
       "    <tr>\n",
       "      <th>4</th>\n",
       "      <td>AAR316</td>\n",
       "      <td>b71eefc</td>\n",
       "      <td>1477652563</td>\n",
       "      <td>2016-10-28 19:02:43</td>\n",
       "      <td>35.186043,128.940857</td>\n",
       "      <td>0</td>\n",
       "      <td>33</td>\n",
       "      <td>104</td>\n",
       "      <td>OZ316</td>\n",
       "    </tr>\n",
       "  </tbody>\n",
       "</table>\n",
       "</div>"
      ],
      "text/plain": [
       "  Callsign   trajID   Timestamp                 Time              Position  \\\n",
       "0   3U8896  b718e54  1477629457  2016-10-28 12:37:37  28.831833,104.550919   \n",
       "1   AAL186  b715fe6  1477666041  2016-10-28 22:47:21  41.977055,-87.893028   \n",
       "2   AAL262  b71e9fe  1477661685  2016-10-28 21:34:45   53.922958,163.93689   \n",
       "3   AAR314  b7172ff  1477629965  2016-10-28 12:46:05   35.185947,128.93898   \n",
       "4   AAR316  b71eefc  1477652563  2016-10-28 19:02:43  35.186043,128.940857   \n",
       "\n",
       "   Altitude  Speed  Direction FlightID  \n",
       "0     25600    428        199   3U8896  \n",
       "1         0      2         84    AA186  \n",
       "2     36975    515         60    AA262  \n",
       "3         0      0         50    OZ314  \n",
       "4         0     33        104    OZ316  "
      ]
     },
     "execution_count": 61,
     "metadata": {},
     "output_type": "execute_result"
    }
   ],
   "source": [
    "lastRecord.head()"
   ]
  },
  {
   "cell_type": "code",
   "execution_count": 62,
   "metadata": {
    "collapsed": false
   },
   "outputs": [],
   "source": [
    "flightIDMap  = lastRecord.drop(['Time','Position','Altitude','Speed','Direction'],axis=1)"
   ]
  },
  {
   "cell_type": "code",
   "execution_count": 63,
   "metadata": {
    "collapsed": false,
    "scrolled": true
   },
   "outputs": [
    {
     "data": {
      "text/html": [
       "<div>\n",
       "<table border=\"1\" class=\"dataframe\">\n",
       "  <thead>\n",
       "    <tr style=\"text-align: right;\">\n",
       "      <th></th>\n",
       "      <th>Callsign</th>\n",
       "      <th>trajID</th>\n",
       "      <th>Timestamp</th>\n",
       "      <th>FlightID</th>\n",
       "    </tr>\n",
       "  </thead>\n",
       "  <tbody>\n",
       "    <tr>\n",
       "      <th>0</th>\n",
       "      <td>3U8896</td>\n",
       "      <td>b718e54</td>\n",
       "      <td>1477629457</td>\n",
       "      <td>3U8896</td>\n",
       "    </tr>\n",
       "    <tr>\n",
       "      <th>1</th>\n",
       "      <td>AAL186</td>\n",
       "      <td>b715fe6</td>\n",
       "      <td>1477666041</td>\n",
       "      <td>AA186</td>\n",
       "    </tr>\n",
       "    <tr>\n",
       "      <th>2</th>\n",
       "      <td>AAL262</td>\n",
       "      <td>b71e9fe</td>\n",
       "      <td>1477661685</td>\n",
       "      <td>AA262</td>\n",
       "    </tr>\n",
       "    <tr>\n",
       "      <th>3</th>\n",
       "      <td>AAR314</td>\n",
       "      <td>b7172ff</td>\n",
       "      <td>1477629965</td>\n",
       "      <td>OZ314</td>\n",
       "    </tr>\n",
       "    <tr>\n",
       "      <th>4</th>\n",
       "      <td>AAR316</td>\n",
       "      <td>b71eefc</td>\n",
       "      <td>1477652563</td>\n",
       "      <td>OZ316</td>\n",
       "    </tr>\n",
       "  </tbody>\n",
       "</table>\n",
       "</div>"
      ],
      "text/plain": [
       "  Callsign   trajID   Timestamp FlightID\n",
       "0   3U8896  b718e54  1477629457   3U8896\n",
       "1   AAL186  b715fe6  1477666041    AA186\n",
       "2   AAL262  b71e9fe  1477661685    AA262\n",
       "3   AAR314  b7172ff  1477629965    OZ314\n",
       "4   AAR316  b71eefc  1477652563    OZ316"
      ]
     },
     "execution_count": 63,
     "metadata": {},
     "output_type": "execute_result"
    }
   ],
   "source": [
    "flightIDMap.head()"
   ]
  },
  {
   "cell_type": "code",
   "execution_count": 64,
   "metadata": {
    "collapsed": true
   },
   "outputs": [],
   "source": [
    "flightIDMap.to_csv(flightID_path,index=False)"
   ]
  },
  {
   "cell_type": "markdown",
   "metadata": {},
   "source": [
    "# remove illeagel Callsigns"
   ]
  },
  {
   "cell_type": "code",
   "execution_count": 102,
   "metadata": {
    "collapsed": true
   },
   "outputs": [],
   "source": [
    "illegalCallsigns = flightIDMap[flightIDMap['FlightID'] == \"-1\"]['Callsign'].tolist()"
   ]
  },
  {
   "cell_type": "code",
   "execution_count": 103,
   "metadata": {
    "collapsed": false
   },
   "outputs": [],
   "source": [
    "df = arr_df[np.logical_not(arr_df['Callsign'].isin(illegalCallsigns))]"
   ]
  },
  {
   "cell_type": "code",
   "execution_count": 104,
   "metadata": {
    "collapsed": false
   },
   "outputs": [],
   "source": [
    "df = df[np.logical_not(pd.isnull(df['Callsign']))]"
   ]
  },
  {
   "cell_type": "markdown",
   "metadata": {},
   "source": [
    "# remove duplicate "
   ]
  },
  {
   "cell_type": "code",
   "execution_count": 105,
   "metadata": {
    "collapsed": false
   },
   "outputs": [
    {
     "data": {
      "text/plain": [
       "(218182, 8)"
      ]
     },
     "execution_count": 105,
     "metadata": {},
     "output_type": "execute_result"
    }
   ],
   "source": [
    "df.shape"
   ]
  },
  {
   "cell_type": "code",
   "execution_count": 106,
   "metadata": {
    "collapsed": false
   },
   "outputs": [],
   "source": [
    "df = df.drop_duplicates()"
   ]
  },
  {
   "cell_type": "code",
   "execution_count": 107,
   "metadata": {
    "collapsed": false,
    "scrolled": true
   },
   "outputs": [
    {
     "data": {
      "text/plain": [
       "(218182, 8)"
      ]
     },
     "execution_count": 107,
     "metadata": {},
     "output_type": "execute_result"
    }
   ],
   "source": [
    "df.shape"
   ]
  },
  {
   "cell_type": "markdown",
   "metadata": {},
   "source": [
    "# add flightID to raw data"
   ]
  },
  {
   "cell_type": "code",
   "execution_count": 108,
   "metadata": {
    "collapsed": false
   },
   "outputs": [],
   "source": [
    "flightIDMap2 = flightIDMap.set_index('Callsign')"
   ]
  },
  {
   "cell_type": "code",
   "execution_count": 109,
   "metadata": {
    "collapsed": false
   },
   "outputs": [],
   "source": [
    "callsignMap = flightIDMap2.to_dict('index')"
   ]
  },
  {
   "cell_type": "code",
   "execution_count": 110,
   "metadata": {
    "collapsed": false
   },
   "outputs": [],
   "source": [
    "df['FlightID'] = df.apply(lambda x: callsignMap[x.Callsign]['FlightID'],axis=1)"
   ]
  },
  {
   "cell_type": "code",
   "execution_count": 111,
   "metadata": {
    "collapsed": false
   },
   "outputs": [
    {
     "data": {
      "text/html": [
       "<div>\n",
       "<table border=\"1\" class=\"dataframe\">\n",
       "  <thead>\n",
       "    <tr style=\"text-align: right;\">\n",
       "      <th></th>\n",
       "      <th>trajID</th>\n",
       "      <th>Timestamp</th>\n",
       "      <th>UTC</th>\n",
       "      <th>Callsign</th>\n",
       "      <th>Position</th>\n",
       "      <th>Altitude</th>\n",
       "      <th>Speed</th>\n",
       "      <th>Direction</th>\n",
       "      <th>FlightID</th>\n",
       "    </tr>\n",
       "  </thead>\n",
       "  <tbody>\n",
       "    <tr>\n",
       "      <th>0</th>\n",
       "      <td>b6da94c</td>\n",
       "      <td>1477501879</td>\n",
       "      <td>2016-10-27 01:11:19</td>\n",
       "      <td>AHY68</td>\n",
       "      <td>40.075333,116.591095</td>\n",
       "      <td>0</td>\n",
       "      <td>0</td>\n",
       "      <td>48</td>\n",
       "      <td>J268</td>\n",
       "    </tr>\n",
       "    <tr>\n",
       "      <th>1</th>\n",
       "      <td>b6da94c</td>\n",
       "      <td>1477501924</td>\n",
       "      <td>2016-10-27 01:12:04</td>\n",
       "      <td>AHY68</td>\n",
       "      <td>40.075123,116.591141</td>\n",
       "      <td>0</td>\n",
       "      <td>10</td>\n",
       "      <td>120</td>\n",
       "      <td>J268</td>\n",
       "    </tr>\n",
       "    <tr>\n",
       "      <th>2</th>\n",
       "      <td>b6da94c</td>\n",
       "      <td>1477501951</td>\n",
       "      <td>2016-10-27 01:12:31</td>\n",
       "      <td>AHY68</td>\n",
       "      <td>40.074841,116.591187</td>\n",
       "      <td>0</td>\n",
       "      <td>11</td>\n",
       "      <td>172</td>\n",
       "      <td>J268</td>\n",
       "    </tr>\n",
       "    <tr>\n",
       "      <th>3</th>\n",
       "      <td>b6da94c</td>\n",
       "      <td>1477501975</td>\n",
       "      <td>2016-10-27 01:12:55</td>\n",
       "      <td>AHY68</td>\n",
       "      <td>40.074612,116.5914</td>\n",
       "      <td>0</td>\n",
       "      <td>10</td>\n",
       "      <td>132</td>\n",
       "      <td>J268</td>\n",
       "    </tr>\n",
       "    <tr>\n",
       "      <th>4</th>\n",
       "      <td>b6da94c</td>\n",
       "      <td>1477501993</td>\n",
       "      <td>2016-10-27 01:13:13</td>\n",
       "      <td>AHY68</td>\n",
       "      <td>40.074509,116.591614</td>\n",
       "      <td>0</td>\n",
       "      <td>2</td>\n",
       "      <td>109</td>\n",
       "      <td>J268</td>\n",
       "    </tr>\n",
       "  </tbody>\n",
       "</table>\n",
       "</div>"
      ],
      "text/plain": [
       "    trajID   Timestamp                  UTC Callsign              Position  \\\n",
       "0  b6da94c  1477501879  2016-10-27 01:11:19    AHY68  40.075333,116.591095   \n",
       "1  b6da94c  1477501924  2016-10-27 01:12:04    AHY68  40.075123,116.591141   \n",
       "2  b6da94c  1477501951  2016-10-27 01:12:31    AHY68  40.074841,116.591187   \n",
       "3  b6da94c  1477501975  2016-10-27 01:12:55    AHY68    40.074612,116.5914   \n",
       "4  b6da94c  1477501993  2016-10-27 01:13:13    AHY68  40.074509,116.591614   \n",
       "\n",
       "   Altitude  Speed  Direction FlightID  \n",
       "0         0      0         48     J268  \n",
       "1         0     10        120     J268  \n",
       "2         0     11        172     J268  \n",
       "3         0     10        132     J268  \n",
       "4         0      2        109     J268  "
      ]
     },
     "execution_count": 111,
     "metadata": {},
     "output_type": "execute_result"
    }
   ],
   "source": [
    "df.head()"
   ]
  },
  {
   "cell_type": "code",
   "execution_count": 112,
   "metadata": {
    "collapsed": true
   },
   "outputs": [],
   "source": [
    "df.to_csv(data_with_flightID_path, index=False)"
   ]
  },
  {
   "cell_type": "code",
   "execution_count": null,
   "metadata": {
    "collapsed": true
   },
   "outputs": [],
   "source": []
  }
 ],
 "metadata": {
  "kernelspec": {
   "display_name": "Python 2",
   "language": "python",
   "name": "python2"
  },
  "language_info": {
   "codemirror_mode": {
    "name": "ipython",
    "version": 2
   },
   "file_extension": ".py",
   "mimetype": "text/x-python",
   "name": "python",
   "nbconvert_exporter": "python",
   "pygments_lexer": "ipython2",
   "version": "2.7.11"
  }
 },
 "nbformat": 4,
 "nbformat_minor": 0
}
